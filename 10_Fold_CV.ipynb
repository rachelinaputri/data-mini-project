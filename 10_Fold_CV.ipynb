{
  "nbformat": 4,
  "nbformat_minor": 0,
  "metadata": {
    "colab": {
      "provenance": [],
      "authorship_tag": "ABX9TyOgEUkS4WruYfT1fLhgFVMG",
      "include_colab_link": true
    },
    "kernelspec": {
      "name": "python3",
      "display_name": "Python 3"
    },
    "language_info": {
      "name": "python"
    }
  },
  "cells": [
    {
      "cell_type": "markdown",
      "metadata": {
        "id": "view-in-github",
        "colab_type": "text"
      },
      "source": [
        "<a href=\"https://colab.research.google.com/github/rachelinaputri/data-mini-project/blob/main/10_Fold_CV.ipynb\" target=\"_parent\"><img src=\"https://colab.research.google.com/assets/colab-badge.svg\" alt=\"Open In Colab\"/></a>"
      ]
    },
    {
      "cell_type": "code",
      "execution_count": 13,
      "metadata": {
        "colab": {
          "base_uri": "https://localhost:8080/"
        },
        "id": "jYDiY7089Dzl",
        "outputId": "51520fa6-da82-4cd8-e605-0975f4283b52"
      },
      "outputs": [
        {
          "output_type": "stream",
          "name": "stdout",
          "text": [
            "SVM Results: {'test_accuracy': 0.8150000000000001, 'test_recall': 0.8150000000000001, 'test_specificity': 0.8300000000000001, 'test_f1': 0.8142819169134959}\n",
            "K-NN Results: {'test_accuracy': 0.745, 'test_recall': 0.745, 'test_specificity': 0.76, 'test_f1': 0.7430026123201517}\n",
            "SVM Results: {'test_accuracy': 0.705, 'test_recall': 0.705, 'test_specificity': 0.6499999999999999, 'test_f1': 0.701172834434377}\n",
            "K-NN Results: {'test_accuracy': 0.735, 'test_recall': 0.735, 'test_specificity': 0.8100000000000002, 'test_f1': 0.7277787475682211}\n",
            "SVM Results: {'test_accuracy': 0.6900000000000001, 'test_recall': 0.6900000000000001, 'test_specificity': 0.9099999999999999, 'test_f1': 0.6448142198223981}\n",
            "K-NN Results: {'test_accuracy': 0.79, 'test_recall': 0.79, 'test_specificity': 0.9099999999999999, 'test_f1': 0.7781882304912732}\n"
          ]
        }
      ],
      "source": [
        "import pandas as pd\n",
        "import numpy as np\n",
        "from sklearn.model_selection import cross_validate, StratifiedKFold\n",
        "from sklearn.preprocessing import StandardScaler\n",
        "from sklearn.neighbors import KNeighborsClassifier\n",
        "from sklearn.svm import SVC\n",
        "from sklearn.metrics import make_scorer, accuracy_score, recall_score, f1_score, confusion_matrix\n",
        "\n",
        "def specificity_score(y_true, y_pred):\n",
        "    tn, fp, fn, tp = confusion_matrix(y_true, y_pred, labels=np.unique(y_true)).ravel()\n",
        "    return tn / (tn + fp)\n",
        "\n",
        "# Function to preprocess data: split columns, convert data types\n",
        "def preprocess_data(df):\n",
        "    df = df[0].str.split(';', expand=True)\n",
        "    df.columns = df.iloc[0]  # Use the first row as column headers\n",
        "    df = df.drop(df.index[0])\n",
        "    features = df.iloc[:, :-1].apply(pd.to_numeric)  # Convert feature columns to numeric\n",
        "    target = df.iloc[:, -1].astype('category')  # Convert class label to categorical\n",
        "    return features, target\n",
        "\n",
        "# Load the data files\n",
        "cpa_file_paths = ['CPA1.csv', 'CPA2.csv', 'CPA3.csv']\n",
        "cpa_dataframes = [pd.read_csv(file, header=None) for file in cpa_file_paths]\n",
        "\n",
        "# Preprocess the data\n",
        "cpa_features_targets = [preprocess_data(df) for df in cpa_dataframes]\n",
        "\n",
        "# Define classifiers\n",
        "svm_classifier = SVC(kernel='linear', random_state=42)\n",
        "knn_classifier = KNeighborsClassifier(n_neighbors=5)\n",
        "\n",
        "# Scoring metrics\n",
        "scoring_metrics = {\n",
        "    'accuracy': make_scorer(accuracy_score),\n",
        "    'recall': make_scorer(recall_score, average='weighted'),  # Sensitivity\n",
        "    'specificity': make_scorer(specificity_score),  # Specificity\n",
        "    'f1': make_scorer(f1_score, average='weighted')\n",
        "}\n",
        "\n",
        "# Perform classification and evaluation\n",
        "results = []\n",
        "for features, target in cpa_features_targets:\n",
        "    scaler = StandardScaler()\n",
        "    features_scaled = scaler.fit_transform(features)\n",
        "    cv = StratifiedKFold(n_splits=10, shuffle=True, random_state=42)\n",
        "\n",
        "    # SVM results\n",
        "    svm_results = cross_validate(svm_classifier, features_scaled, target, cv=cv, scoring=scoring_metrics)\n",
        "    svm_summary = {metric: scores.mean() for metric, scores in svm_results.items() if 'test_' in metric}\n",
        "\n",
        "    # K-NN results\n",
        "    knn_results = cross_validate(knn_classifier, features_scaled, target, cv=cv, scoring=scoring_metrics)\n",
        "    knn_summary = {metric: scores.mean() for metric, scores in knn_results.items() if 'test_' in metric}\n",
        "\n",
        "    results.append((svm_summary, knn_summary))\n",
        "\n",
        "# Display results\n",
        "for result in results:\n",
        "    print(\"SVM Results:\", result[0])\n",
        "    print(\"K-NN Results:\", result[1])\n"
      ]
    }
  ]
}