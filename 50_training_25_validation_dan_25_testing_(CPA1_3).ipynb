{
  "nbformat": 4,
  "nbformat_minor": 0,
  "metadata": {
    "colab": {
      "provenance": [],
      "authorship_tag": "ABX9TyN0QMwNpj/rhMkQiIce5BYE",
      "include_colab_link": true
    },
    "kernelspec": {
      "name": "python3",
      "display_name": "Python 3"
    },
    "language_info": {
      "name": "python"
    }
  },
  "cells": [
    {
      "cell_type": "markdown",
      "metadata": {
        "id": "view-in-github",
        "colab_type": "text"
      },
      "source": [
        "<a href=\"https://colab.research.google.com/github/rachelinaputri/data-mini-project/blob/main/50_training_25_validation_dan_25_testing_(CPA1_3).ipynb\" target=\"_parent\"><img src=\"https://colab.research.google.com/assets/colab-badge.svg\" alt=\"Open In Colab\"/></a>"
      ]
    },
    {
      "cell_type": "code",
      "execution_count": 2,
      "metadata": {
        "colab": {
          "base_uri": "https://localhost:8080/"
        },
        "id": "4w2NpO3uOlON",
        "outputId": "163e3d8a-d4de-4dd5-99f4-8177e1199550"
      },
      "outputs": [
        {
          "output_type": "stream",
          "name": "stdout",
          "text": [
            "Results for CPA1.csv:\n",
            "{'SVM': {'Validation Accuracy': 0.78, 'Validation Recall': 0.7694805194805194, 'Validation Precision': 0.7818336162988115, 'Validation F1 Score': 0.7726333195535344, 'Validation Specificity': 0.6818181818181818, 'Test Accuracy': 0.8, 'Test Recall': 0.8013136288998358, 'Test Precision': 0.7954911433172303, 'Test F1 Score': 0.797077922077922, 'Test Specificity': 0.7931034482758621}, 'K-NN': {'Validation Accuracy': 0.74, 'Validation Recall': 0.7435064935064934, 'Validation Precision': 0.74, 'Validation F1 Score': 0.7390606182256123, 'Validation Specificity': 0.7727272727272727, 'Test Accuracy': 0.78, 'Test Recall': 0.770935960591133, 'Test Precision': 0.775, 'Test F1 Score': 0.7726333195535344, 'Test Specificity': 0.8275862068965517}}\n",
            "Results for CPA2.csv:\n",
            "{'SVM': {'Validation Accuracy': 0.76, 'Validation Recall': 0.737012987012987, 'Validation Precision': 0.7896825396825397, 'Validation F1 Score': 0.7395833333333333, 'Validation Specificity': 0.5454545454545454, 'Test Accuracy': 0.7, 'Test Recall': 0.7019704433497538, 'Test Precision': 0.6971153846153846, 'Test F1 Score': 0.696969696969697, 'Test Specificity': 0.6896551724137931}, 'K-NN': {'Validation Accuracy': 0.72, 'Validation Recall': 0.6964285714285714, 'Validation Precision': 0.7400793650793651, 'Validation F1 Score': 0.6961805555555556, 'Validation Specificity': 0.5, 'Test Accuracy': 0.62, 'Test Recall': 0.6330049261083743, 'Test Precision': 0.6314935064935066, 'Test F1 Score': 0.6198479391756703, 'Test Specificity': 0.5517241379310345}}\n",
            "Results for CPA3.csv:\n",
            "{'SVM': {'Validation Accuracy': 0.7866666666666666, 'Validation Recall': 0.7354497354497355, 'Validation Precision': 0.7354497354497355, 'Validation F1 Score': 0.7354497354497355, 'Validation Specificity': 0.8518518518518519, 'Test Accuracy': 0.7466666666666667, 'Test Recall': 0.7144082332761579, 'Test Precision': 0.7, 'Test F1 Score': 0.7056393307167941, 'Test Specificity': 0.7924528301886793}, 'K-NN': {'Validation Accuracy': 0.88, 'Validation Recall': 0.8002645502645502, 'Validation Precision': 0.8987119437939111, 'Validation F1 Score': 0.8322981366459627, 'Validation Specificity': 0.9814814814814815, 'Test Accuracy': 0.76, 'Test Recall': 0.6972555746140652, 'Test Precision': 0.7090909090909091, 'Test F1 Score': 0.7023809523809523, 'Test Specificity': 0.8490566037735849}}\n"
          ]
        }
      ],
      "source": [
        "import pandas as pd\n",
        "import numpy as np\n",
        "from sklearn.model_selection import train_test_split\n",
        "from sklearn.preprocessing import StandardScaler\n",
        "from sklearn.svm import SVC\n",
        "from sklearn.neighbors import KNeighborsClassifier\n",
        "from sklearn.metrics import accuracy_score, recall_score, precision_score, f1_score, confusion_matrix\n",
        "\n",
        "# Fungsi untuk memuat data\n",
        "def load_data(file_path):\n",
        "    df = pd.read_csv(file_path, delimiter=';')\n",
        "    X = df.iloc[:, :-1]\n",
        "    y = df.iloc[:, -1]\n",
        "    X = X.apply(pd.to_numeric, errors='coerce')\n",
        "    y = pd.factorize(y)[0]\n",
        "    return X, y\n",
        "\n",
        "# Fungsi untuk menghitung specificity\n",
        "def specificity_score(y_true, y_pred):\n",
        "    tn, fp, fn, tp = confusion_matrix(y_true, y_pred).ravel()\n",
        "    specificity = tn / (tn + fp)\n",
        "    return specificity\n",
        "\n",
        "# Fungsi untuk melatih dan mengevaluasi model\n",
        "def train_and_evaluate(X_train, X_val, X_test, y_train, y_val, y_test):\n",
        "    scaler = StandardScaler()\n",
        "    X_train_scaled = scaler.fit_transform(X_train)\n",
        "    X_val_scaled = scaler.transform(X_val)\n",
        "    X_test_scaled = scaler.transform(X_test)\n",
        "\n",
        "    models = {\n",
        "        'SVM': SVC(),\n",
        "        'K-NN': KNeighborsClassifier()\n",
        "    }\n",
        "\n",
        "    results = {}\n",
        "\n",
        "    for name, model in models.items():\n",
        "        model.fit(X_train_scaled, y_train)\n",
        "        y_val_pred = model.predict(X_val_scaled)\n",
        "        y_test_pred = model.predict(X_test_scaled)\n",
        "\n",
        "        results[name] = {\n",
        "            'Validation Accuracy': accuracy_score(y_val, y_val_pred),\n",
        "            'Validation Recall': recall_score(y_val, y_val_pred, average='macro'),\n",
        "            'Validation Precision': precision_score(y_val, y_val_pred, average='macro'),\n",
        "            'Validation F1 Score': f1_score(y_val, y_val_pred, average='macro'),\n",
        "            'Validation Specificity': specificity_score(y_val, y_val_pred),\n",
        "            'Test Accuracy': accuracy_score(y_test, y_test_pred),\n",
        "            'Test Recall': recall_score(y_test, y_test_pred, average='macro'),\n",
        "            'Test Precision': precision_score(y_test, y_test_pred, average='macro'),\n",
        "            'Test F1 Score': f1_score(y_test, y_test_pred, average='macro'),\n",
        "            'Test Specificity': specificity_score(y_test, y_test_pred)\n",
        "        }\n",
        "\n",
        "    return results\n",
        "\n",
        "# Main execution block\n",
        "file_paths = ['CPA1.csv', 'CPA2.csv', 'CPA3.csv']\n",
        "for file_path in file_paths:\n",
        "    X, y = load_data(file_path)\n",
        "    X_train, X_temp, y_train, y_temp = train_test_split(X, y, test_size=0.5, random_state=42)\n",
        "    X_val, X_test, y_val, y_test = train_test_split(X_temp, y_temp, test_size=0.5, random_state=42)\n",
        "    results = train_and_evaluate(X_train, X_val, X_test, y_train, y_val, y_test)\n",
        "    print(f'Results for {file_path}:')\n",
        "    print(results)\n"
      ]
    }
  ]
}