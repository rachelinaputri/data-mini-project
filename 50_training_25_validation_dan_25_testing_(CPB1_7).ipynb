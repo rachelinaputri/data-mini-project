{
  "nbformat": 4,
  "nbformat_minor": 0,
  "metadata": {
    "colab": {
      "provenance": [],
      "authorship_tag": "ABX9TyOmStc+Hextba+YrLfxIXrn",
      "include_colab_link": true
    },
    "kernelspec": {
      "name": "python3",
      "display_name": "Python 3"
    },
    "language_info": {
      "name": "python"
    }
  },
  "cells": [
    {
      "cell_type": "markdown",
      "metadata": {
        "id": "view-in-github",
        "colab_type": "text"
      },
      "source": [
        "<a href=\"https://colab.research.google.com/github/rachelinaputri/data-mini-project/blob/main/50_training_25_validation_dan_25_testing_(CPB1_7).ipynb\" target=\"_parent\"><img src=\"https://colab.research.google.com/assets/colab-badge.svg\" alt=\"Open In Colab\"/></a>"
      ]
    },
    {
      "cell_type": "code",
      "execution_count": 2,
      "metadata": {
        "id": "N4v_DfDDPGpN",
        "colab": {
          "base_uri": "https://localhost:8080/"
        },
        "outputId": "a10c0c2f-1145-4c2a-881f-fe91962c1884"
      },
      "outputs": [
        {
          "output_type": "stream",
          "name": "stdout",
          "text": [
            "Results for CPB1.csv:\n",
            "{'SVM': {'Validation Accuracy': 0.96, 'Validation Recall': 0.9545454545454546, 'Validation Precision': 0.9666666666666667, 'Validation F1 Score': 0.9589490968801313, 'Validation Specificity': 0.9090909090909091, 'Test Accuracy': 0.8, 'Test Recall': 0.8078817733990147, 'Test Precision': 0.8, 'Test F1 Score': 0.7987117552334944, 'Test Specificity': 0.7586206896551724}, 'K-NN': {'Validation Accuracy': 0.92, 'Validation Recall': 0.913961038961039, 'Validation Precision': 0.925, 'Validation F1 Score': 0.9178981937602627, 'Validation Specificity': 0.8636363636363636, 'Test Accuracy': 0.8, 'Test Recall': 0.8078817733990147, 'Test Precision': 0.8, 'Test F1 Score': 0.7987117552334944, 'Test Specificity': 0.7586206896551724}}\n",
            "Results for CPB2.csv:\n",
            "{'SVM': {'Validation Accuracy': 0.9, 'Validation Recall': 0.8961038961038961, 'Validation Precision': 0.9006568144499179, 'Validation F1 Score': 0.898000815993472, 'Validation Specificity': 0.8636363636363636, 'Test Accuracy': 0.78, 'Test Recall': 0.7906403940886699, 'Test Precision': 0.7836538461538461, 'Test F1 Score': 0.779205138498595, 'Test Specificity': 0.7241379310344828}, 'K-NN': {'Validation Accuracy': 0.92, 'Validation Recall': 0.9188311688311688, 'Validation Precision': 0.9188311688311688, 'Validation F1 Score': 0.9188311688311688, 'Validation Specificity': 0.9090909090909091, 'Test Accuracy': 0.8, 'Test Recall': 0.8144499178981938, 'Test Precision': 0.8083735909822867, 'Test F1 Score': 0.7996794871794872, 'Test Specificity': 0.7241379310344828}}\n",
            "Results for CPB3.csv:\n",
            "{'SVM': {'Validation Accuracy': 0.84, 'Validation Recall': 0.8181818181818181, 'Validation Precision': 0.8888888888888888, 'Validation F1 Score': 0.826388888888889, 'Validation Specificity': 0.6363636363636364, 'Test Accuracy': 0.88, 'Test Recall': 0.8899835796387521, 'Test Precision': 0.88, 'Test F1 Score': 0.8792270531400966, 'Test Specificity': 0.8275862068965517}, 'K-NN': {'Validation Accuracy': 0.84, 'Validation Recall': 0.8181818181818181, 'Validation Precision': 0.8888888888888888, 'Validation F1 Score': 0.826388888888889, 'Validation Specificity': 0.6363636363636364, 'Test Accuracy': 0.88, 'Test Recall': 0.8834154351395731, 'Test Precision': 0.8760064412238325, 'Test F1 Score': 0.8782467532467533, 'Test Specificity': 0.8620689655172413}}\n",
            "Results for CPB4.csv:\n",
            "{'SVM': {'Validation Accuracy': 0.8, 'Validation Recall': 0.7824675324675325, 'Validation Precision': 0.8198529411764706, 'Validation F1 Score': 0.7877758913412564, 'Validation Specificity': 0.6363636363636364, 'Test Accuracy': 0.88, 'Test Recall': 0.8899835796387521, 'Test Precision': 0.88, 'Test F1 Score': 0.8792270531400966, 'Test Specificity': 0.8275862068965517}, 'K-NN': {'Validation Accuracy': 0.8, 'Validation Recall': 0.7824675324675325, 'Validation Precision': 0.8198529411764706, 'Validation F1 Score': 0.7877758913412564, 'Validation Specificity': 0.6363636363636364, 'Test Accuracy': 0.88, 'Test Recall': 0.8899835796387521, 'Test Precision': 0.88, 'Test F1 Score': 0.8792270531400966, 'Test Specificity': 0.8275862068965517}}\n",
            "Results for CPB5.csv:\n",
            "{'SVM': {'Validation Accuracy': 0.88, 'Validation Recall': 0.9166666666666667, 'Validation Precision': 0.85, 'Validation F1 Score': 0.8663101604278074, 'Validation Specificity': 0.8333333333333334, 'Test Accuracy': 0.8933333333333333, 'Test Recall': 0.9112349914236707, 'Test Precision': 0.8643617021276595, 'Test F1 Score': 0.8799999999999999, 'Test Specificity': 0.8679245283018868}, 'K-NN': {'Validation Accuracy': 0.8933333333333333, 'Validation Recall': 0.9113756613756614, 'Validation Precision': 0.8599537037037037, 'Validation F1 Score': 0.8774509803921569, 'Validation Specificity': 0.8703703703703703, 'Test Accuracy': 0.8666666666666667, 'Test Recall': 0.8524871355060035, 'Test Precision': 0.8357843137254901, 'Test F1 Score': 0.8432274247491638, 'Test Specificity': 0.8867924528301887}}\n",
            "Results for CPB6.csv:\n",
            "{'SVM': {'Validation Accuracy': 0.84, 'Validation Recall': 0.8597883597883598, 'Validation Precision': 0.8058470764617691, 'Validation F1 Score': 0.8200000000000001, 'Validation Specificity': 0.8148148148148148, 'Test Accuracy': 0.9066666666666666, 'Test Recall': 0.9339622641509434, 'Test Precision': 0.8793103448275862, 'Test F1 Score': 0.8960190136660724, 'Test Specificity': 0.8679245283018868}, 'K-NN': {'Validation Accuracy': 0.8266666666666667, 'Validation Recall': 0.8068783068783069, 'Validation Precision': 0.7843137254901961, 'Validation F1 Score': 0.7936507936507936, 'Validation Specificity': 0.8518518518518519, 'Test Accuracy': 0.8666666666666667, 'Test Recall': 0.879073756432247, 'Test Precision': 0.8358662613981763, 'Test F1 Score': 0.8500000000000001, 'Test Specificity': 0.8490566037735849}}\n",
            "Results for CPB7.csv:\n",
            "{'SVM': {'Validation Accuracy': 0.83, 'Validation Recall': 0.837536780159731, 'Validation Precision': 0.823268921095008, 'Validation F1 Score': 0.826086956521739, 'Validation Specificity': 0.8032786885245902, 'Test Accuracy': 0.92, 'Test Recall': 0.9178743961352657, 'Test Precision': 0.9212662337662337, 'Test F1 Score': 0.9191919191919191, 'Test Specificity': 0.8913043478260869}, 'K-NN': {'Validation Accuracy': 0.8, 'Validation Recall': 0.8036990332072299, 'Validation Precision': 0.7919191919191919, 'Validation F1 Score': 0.7947454844006568, 'Validation Specificity': 0.7868852459016393, 'Test Accuracy': 0.93, 'Test Recall': 0.9287439613526569, 'Test Precision': 0.9303030303030303, 'Test F1 Score': 0.9294283697953423, 'Test Specificity': 0.9130434782608695}}\n"
          ]
        }
      ],
      "source": [
        "import pandas as pd\n",
        "import numpy as np\n",
        "from sklearn.model_selection import train_test_split\n",
        "from sklearn.preprocessing import StandardScaler\n",
        "from sklearn.svm import SVC\n",
        "from sklearn.neighbors import KNeighborsClassifier\n",
        "from sklearn.metrics import accuracy_score, recall_score, precision_score, f1_score, confusion_matrix\n",
        "\n",
        "# Fungsi untuk memuat data\n",
        "def load_data(file_path):\n",
        "    df = pd.read_csv(file_path, delimiter=';')\n",
        "    X = df.iloc[:, :-1]\n",
        "    y = df.iloc[:, -1]\n",
        "    X = X.apply(pd.to_numeric, errors='coerce')\n",
        "    y = pd.factorize(y)[0]\n",
        "    return X, y\n",
        "\n",
        "# Fungsi untuk menghitung specificity\n",
        "def specificity_score(y_true, y_pred):\n",
        "    tn, fp, fn, tp = confusion_matrix(y_true, y_pred).ravel()\n",
        "    specificity = tn / (tn + fp)\n",
        "    return specificity\n",
        "\n",
        "# Fungsi untuk melatih dan mengevaluasi model\n",
        "def train_and_evaluate(X_train, X_val, X_test, y_train, y_val, y_test):\n",
        "    scaler = StandardScaler()\n",
        "    X_train_scaled = scaler.fit_transform(X_train)\n",
        "    X_val_scaled = scaler.transform(X_val)\n",
        "    X_test_scaled = scaler.transform(X_test)\n",
        "\n",
        "    models = {\n",
        "        'SVM': SVC(),\n",
        "        'K-NN': KNeighborsClassifier()\n",
        "    }\n",
        "\n",
        "    results = {}\n",
        "\n",
        "    for name, model in models.items():\n",
        "        model.fit(X_train_scaled, y_train)\n",
        "        y_val_pred = model.predict(X_val_scaled)\n",
        "        y_test_pred = model.predict(X_test_scaled)\n",
        "\n",
        "        results[name] = {\n",
        "            'Validation Accuracy': accuracy_score(y_val, y_val_pred),\n",
        "            'Validation Recall': recall_score(y_val, y_val_pred, average='macro'),\n",
        "            'Validation Precision': precision_score(y_val, y_val_pred, average='macro'),\n",
        "            'Validation F1 Score': f1_score(y_val, y_val_pred, average='macro'),\n",
        "            'Validation Specificity': specificity_score(y_val, y_val_pred),\n",
        "            'Test Accuracy': accuracy_score(y_test, y_test_pred),\n",
        "            'Test Recall': recall_score(y_test, y_test_pred, average='macro'),\n",
        "            'Test Precision': precision_score(y_test, y_test_pred, average='macro'),\n",
        "            'Test F1 Score': f1_score(y_test, y_test_pred, average='macro'),\n",
        "            'Test Specificity': specificity_score(y_test, y_test_pred)\n",
        "        }\n",
        "\n",
        "    return results\n",
        "\n",
        "# Main execution block\n",
        "file_paths = ['CPB1.csv', 'CPB2.csv', 'CPB3.csv','CPB4.csv', 'CPB5.csv', 'CPB6.csv', 'CPB7.csv']\n",
        "for file_path in file_paths:\n",
        "    X, y = load_data(file_path)\n",
        "    X_train, X_temp, y_train, y_temp = train_test_split(X, y, test_size=0.5, random_state=42)\n",
        "    X_val, X_test, y_val, y_test = train_test_split(X_temp, y_temp, test_size=0.5, random_state=42)\n",
        "    results = train_and_evaluate(X_train, X_val, X_test, y_train, y_val, y_test)\n",
        "    print(f'Results for {file_path}:')\n",
        "    print(results)\n"
      ]
    }
  ]
}